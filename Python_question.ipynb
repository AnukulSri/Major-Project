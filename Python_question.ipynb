{
 "cells": [
  {
   "attachments": {},
   "cell_type": "markdown",
   "metadata": {},
   "source": [
    "# Reverse list without using any predefined function..."
   ]
  },
  {
   "cell_type": "code",
   "execution_count": 3,
   "metadata": {},
   "outputs": [
    {
     "name": "stdout",
     "output_type": "stream",
     "text": [
      "4\n",
      "[50, 40, 30, 20, 10]\n"
     ]
    }
   ],
   "source": [
    "l=[10,20,30,40,50]\n",
    "s=len(l)\n",
    "i=0\n",
    "j=s-1\n",
    "print(j)\n",
    "while i<j:\n",
    "    \n",
    "    l[i] = l[i] + l[j]\n",
    "    l[j] = l[i] - l[j]\n",
    "    l[i] = l[i] - l[j]\n",
    "\n",
    "    i= i+1\n",
    "    j= j-1\n",
    "print(l)"
   ]
  },
  {
   "attachments": {},
   "cell_type": "markdown",
   "metadata": {},
   "source": [
    "# Swap no. without using another variable..."
   ]
  },
  {
   "cell_type": "code",
   "execution_count": 10,
   "metadata": {},
   "outputs": [
    {
     "name": "stdout",
     "output_type": "stream",
     "text": [
      "20\n",
      "10\n"
     ]
    }
   ],
   "source": [
    "a=10\n",
    "b=20\n",
    "a=a + b\n",
    "b=a - b\n",
    "a=a - b \n",
    "print(a)\n",
    "print(b)"
   ]
  },
  {
   "attachments": {},
   "cell_type": "markdown",
   "metadata": {},
   "source": [
    "# write a program to reverse an integer."
   ]
  },
  {
   "cell_type": "code",
   "execution_count": 3,
   "metadata": {},
   "outputs": [
    {
     "name": "stdout",
     "output_type": "stream",
     "text": [
      "321\n"
     ]
    }
   ],
   "source": [
    "n = int(input(\"Enter a number\"))\n",
    "s=0\n",
    "while n>0:\n",
    "    t = n%10\n",
    "    s=(s*10)+t\n",
    "    n = n//10\n",
    "print(s)\n"
   ]
  },
  {
   "attachments": {},
   "cell_type": "markdown",
   "metadata": {},
   "source": [
    "# Write a program in Python to check whether an integer is Armstrong number or not. (153 = 1**3 + 5**3 + 3**3)"
   ]
  },
  {
   "cell_type": "code",
   "execution_count": 5,
   "metadata": {},
   "outputs": [
    {
     "name": "stdout",
     "output_type": "stream",
     "text": [
      "number is armstrong\n"
     ]
    }
   ],
   "source": [
    "n = int(input(\"Enter a number\"))\n",
    "a = n\n",
    "t=0\n",
    "while a>0:\n",
    "    s = a%10\n",
    "    r = s**3\n",
    "    t = t+r\n",
    "    a = a//10\n",
    "if t==n:\n",
    "    print('number is armstrong')\n",
    "else:\n",
    "    print('not an armstrong')"
   ]
  },
  {
   "attachments": {},
   "cell_type": "markdown",
   "metadata": {},
   "source": [
    "# Write a program in Python to check given number is prime or not."
   ]
  },
  {
   "cell_type": "code",
   "execution_count": 3,
   "metadata": {},
   "outputs": [
    {
     "name": "stdout",
     "output_type": "stream",
     "text": [
      "number is prime\n"
     ]
    }
   ],
   "source": [
    "n = int(input(\"Enter a number\"))\n",
    "p=0\n",
    "for i in range(2,n+1):\n",
    "    if n%i == 0:\n",
    "       p=p+1\n",
    "if p==1:\n",
    "    print('number is prime')\n",
    "else:\n",
    "    print(\"number is not prime\")\n",
    "\n"
   ]
  },
  {
   "attachments": {},
   "cell_type": "markdown",
   "metadata": {},
   "source": [
    "# Write a program in Python to print the Fibonacci series using iterative method.\n",
    "- iterative means if else"
   ]
  },
  {
   "cell_type": "code",
   "execution_count": 2,
   "metadata": {},
   "outputs": [
    {
     "name": "stdout",
     "output_type": "stream",
     "text": [
      "0\n",
      "1\n",
      "1\n",
      "2\n",
      "3\n"
     ]
    }
   ],
   "source": [
    "n = int(input(\"Enter number upto which you want fibonacci series\"))\n",
    "a=0\n",
    "b=1\n",
    "for i in range(0,n):\n",
    "  if i<=1:\n",
    "    res = i\n",
    "  else:\n",
    "    res = a+b\n",
    "    a= b\n",
    "    b=res\n",
    "  print(res)"
   ]
  },
  {
   "attachments": {},
   "cell_type": "markdown",
   "metadata": {},
   "source": [
    "# Write a program in Python to print the Fibonacci series using recursive method."
   ]
  },
  {
   "cell_type": "code",
   "execution_count": 1,
   "metadata": {},
   "outputs": [
    {
     "name": "stdout",
     "output_type": "stream",
     "text": [
      "0\n",
      "1\n",
      "1\n",
      "2\n",
      "3\n"
     ]
    }
   ],
   "source": [
    "n = int(input(\"Enter a number\"))\n",
    "\n",
    "def fibonacci(a):\n",
    "\n",
    "    if a == 0 or a == 1:\n",
    "        return a\n",
    "    else:\n",
    "        return fibonacci(a-1)+fibonacci(a-2)\n",
    "\n",
    "for a in range(0,n):\n",
    "    print(fibonacci(a))"
   ]
  },
  {
   "attachments": {},
   "cell_type": "markdown",
   "metadata": {},
   "source": [
    "# Write a program in Python to check whether a number is palindrome or not using iterative method.(121 after reversing it should be the same)"
   ]
  },
  {
   "cell_type": "code",
   "execution_count": 4,
   "metadata": {},
   "outputs": [
    {
     "name": "stdout",
     "output_type": "stream",
     "text": [
      "palindrome\n"
     ]
    }
   ],
   "source": [
    "n = int(input(\"Enter a number\"))\n",
    "a=n\n",
    "r = 0\n",
    "while a>0:\n",
    "    s = a%10\n",
    "    r=(r*10)+s\n",
    "    a = a//10\n",
    "if r == n:\n",
    "    print('palindrome')\n",
    "else:\n",
    "    print('not palindrome')\n"
   ]
  },
  {
   "attachments": {},
   "cell_type": "markdown",
   "metadata": {},
   "source": [
    "# Write a program in Python to check whether a number is palindrome or not using recursive method."
   ]
  },
  {
   "cell_type": "code",
   "execution_count": 9,
   "metadata": {},
   "outputs": [
    {
     "name": "stdout",
     "output_type": "stream",
     "text": [
      "palindrome\n"
     ]
    }
   ],
   "source": [
    "n = int(input(\"Enter a number\"))\n",
    "r= 0\n",
    "def palin(a):\n",
    "    if a<10:\n",
    "      return a\n",
    "    else:\n",
    "       return int(str(a%10) + str(palin(a//10)))\n",
    "def ispalin(a):\n",
    "   if a==palin(a):\n",
    "      return 1\n",
    "   else:\n",
    "     return 0\n",
    "if ispalin(n) == 1:\n",
    "   print(\"palindrome\")\n",
    "else:\n",
    "   print(\"not palindrome\")"
   ]
  },
  {
   "attachments": {},
   "cell_type": "markdown",
   "metadata": {},
   "source": [
    "#  Write a program in Python to find greatest among three integers."
   ]
  },
  {
   "cell_type": "code",
   "execution_count": 13,
   "metadata": {},
   "outputs": [
    {
     "name": "stdout",
     "output_type": "stream",
     "text": [
      "C is greater\n"
     ]
    }
   ],
   "source": [
    "a = int(input(\"Enter a number\"))\n",
    "b = int(input(\"Enter a number\"))\n",
    "c = int(input(\"Enter a number\"))\n",
    "if a>b and a>c:\n",
    "    print(\"A is greater\")\n",
    "elif b>c:\n",
    "    print(\"B is greater\")\n",
    "else:\n",
    "    print(\"C is greater\")"
   ]
  },
  {
   "attachments": {},
   "cell_type": "markdown",
   "metadata": {},
   "source": [
    "# Write a program in Python to check if a number is binary?"
   ]
  },
  {
   "cell_type": "code",
   "execution_count": 31,
   "metadata": {},
   "outputs": [
    {
     "name": "stdout",
     "output_type": "stream",
     "text": [
      "The inputed number is  1012578001\n",
      "Number is not binary\n"
     ]
    }
   ],
   "source": [
    "n = int(input(\"Enter a number\"))\n",
    "a= str(n)\n",
    "print(\"The inputed number is \",a)\n",
    "c=0\n",
    "for i in a:\n",
    "    if i!= '0' and i!= '1':\n",
    "         c+=1\n",
    "if c == 0:\n",
    "    print(\"Number is binary\")\n",
    "else: \n",
    "    print(\"Number is not binary\")"
   ]
  },
  {
   "attachments": {},
   "cell_type": "markdown",
   "metadata": {},
   "source": [
    "# Write a program in Python to find sum of digits of a number using recursion?"
   ]
  },
  {
   "cell_type": "code",
   "execution_count": 34,
   "metadata": {},
   "outputs": [
    {
     "name": "stdout",
     "output_type": "stream",
     "text": [
      "8\n"
     ]
    }
   ],
   "source": [
    "n = int(input(\"Enter a number\"))\n",
    "def sum(a):\n",
    "    if a<10:\n",
    "        return a\n",
    "    else:\n",
    "        return (a%10)+sum(a//10)\n",
    "print(sum(n))"
   ]
  },
  {
   "attachments": {},
   "cell_type": "markdown",
   "metadata": {},
   "source": [
    "# Write a program in Python to add two integer without using arithmetic operator?"
   ]
  },
  {
   "cell_type": "code",
   "execution_count": 36,
   "metadata": {},
   "outputs": [
    {
     "name": "stdout",
     "output_type": "stream",
     "text": [
      "3\n"
     ]
    }
   ],
   "source": [
    "a = int(input(\"ENter a number\"))\n",
    "b = int(input(\"ENter a number\"))\n",
    "c= a^b\n",
    "print(c)"
   ]
  },
  {
   "attachments": {},
   "cell_type": "markdown",
   "metadata": {},
   "source": [
    "# Write a program in Python to find given number is perfect or not?"
   ]
  },
  {
   "cell_type": "code",
   "execution_count": 45,
   "metadata": {},
   "outputs": [
    {
     "name": "stdout",
     "output_type": "stream",
     "text": [
      "not perfect\n"
     ]
    }
   ],
   "source": [
    "n = int(input(\"Enter a number\"))\n",
    "def perfect(a):\n",
    "    g=0\n",
    "    for i in range(1,n):\n",
    "        if a%i == 0:\n",
    "            g = g+i\n",
    "\n",
    "    if g == a:\n",
    "        print(\"perfect\")\n",
    "    else:\n",
    "        print(\"not perfect\")\n",
    "perfect(n)"
   ]
  }
 ],
 "metadata": {
  "kernelspec": {
   "display_name": "base",
   "language": "python",
   "name": "python3"
  },
  "language_info": {
   "codemirror_mode": {
    "name": "ipython",
    "version": 3
   },
   "file_extension": ".py",
   "mimetype": "text/x-python",
   "name": "python",
   "nbconvert_exporter": "python",
   "pygments_lexer": "ipython3",
   "version": "3.9.12"
  },
  "orig_nbformat": 4
 },
 "nbformat": 4,
 "nbformat_minor": 2
}
